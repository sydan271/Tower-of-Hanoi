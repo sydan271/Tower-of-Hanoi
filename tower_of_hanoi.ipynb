{
 "cells": [
  {
   "cell_type": "markdown",
   "id": "6527b933",
   "metadata": {},
   "source": [
    "Tower of Hanoi problem"
   ]
  },
  {
   "cell_type": "markdown",
   "id": "9ba63273",
   "metadata": {},
   "source": [
    "This is a recursive problem \n",
    "When we have 3 disk, peg 1 at the beginning, peg 3 at the end -> we move the disk at the start to the ending which is the desination. After each step, we want to print out the step. "
   ]
  },
  {
   "cell_type": "markdown",
   "id": "21d1fb5e",
   "metadata": {},
   "source": [
    "To solve this problem, we have to first show that f(1), which is when there is only 1 disk and 3 pegs is true"
   ]
  },
  {
   "cell_type": "markdown",
   "id": "a483a902",
   "metadata": {},
   "source": [
    "Since 1 disk we can move that one from the start at 1 to the end at 3 with 1 move 1 -> 3 "
   ]
  },
  {
   "cell_type": "markdown",
   "id": "eb589923",
   "metadata": {},
   "source": [
    "Now we show that the f(n - 1) is true"
   ]
  },
  {
   "cell_type": "markdown",
   "id": "9691a74c",
   "metadata": {},
   "source": [
    "Eventually this is true because with n - 1 disks, we can always call n - 2 disks, n - 3 disks, all the way to 1. Now we can solve the case with 1 disk then move on to 2 disks -> 3 disks -> .... -> n - 2 -> n - 1 disks. That means f(n - 1) can be solved"
   ]
  },
  {
   "cell_type": "markdown",
   "id": "b6095d3d",
   "metadata": {},
   "source": [
    "From f(n - 1). Now we can show f(n) is also true by solving f(n - 1) -> then move the nth disk to the end -> then bring the n - 1 in the second peg to the end peg. Noticed that we have 3 pegs, start, end, and other, which can be more than 6 pegs so the other peg = 6 - (start + end). True for start at 1 and end at 3 where the other peg is 6 - (1 + 3) = 4"
   ]
  },
  {
   "cell_type": "code",
   "execution_count": null,
   "id": "c2fc1e98",
   "metadata": {},
   "outputs": [
    {
     "name": "stdout",
     "output_type": "stream",
     "text": [
      "1 -> 3\n",
      "1 -> 3\n",
      "3 -> 2\n",
      "1 -> 2\n",
      "2 -> 1\n",
      "2 -> 1\n",
      "1 -> 3\n"
     ]
    }
   ],
   "source": [
    "#the first function is to solve the n, start, end \n",
    "#the start peg could be the other one, or the end one, depends on the recursive\n",
    "\n",
    "def tower_of_hanoi(n, start, end):\n",
    "    if n == 1: \n",
    "        print_move(start, end)\n",
    "    else: \n",
    "        #now we want to move the n - 1 case to the other peg \n",
    "        other = 6 - (start + end)\n",
    "        #call back the function to throw the n - 1 case to the other peg \n",
    "        tower_of_hanoi(n - 1, start, other)\n",
    "        print_move(start, other)\n",
    "        #now the n - 1 case lies on the other peg \n",
    "        #the we want to throw the n - 1 case here to the end case \n",
    "        tower_of_hanoi(n - 1, other, end)\n",
    "        #repeat this until n == 1 then it approaches the first one \n",
    "\n",
    "#the second function is to print out the move in range of the starting and the end, whether the start\n",
    "#is at the other peg or not\n",
    "\n",
    "def print_move(start, end):\n",
    "    print(start, \"->\", end)\n",
    "\n",
    "#test with 3 disks, start 1, end 3\n",
    "tower_of_hanoi(3, 1, 3)\n"
   ]
  }
 ],
 "metadata": {
  "kernelspec": {
   "display_name": ".venv",
   "language": "python",
   "name": "python3"
  },
  "language_info": {
   "codemirror_mode": {
    "name": "ipython",
    "version": 3
   },
   "file_extension": ".py",
   "mimetype": "text/x-python",
   "name": "python",
   "nbconvert_exporter": "python",
   "pygments_lexer": "ipython3",
   "version": "3.11.14"
  }
 },
 "nbformat": 4,
 "nbformat_minor": 5
}
